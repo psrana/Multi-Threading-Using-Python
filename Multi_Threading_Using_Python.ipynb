{
  "nbformat": 4,
  "nbformat_minor": 0,
  "metadata": {
    "colab": {
      "name": "Multi-Threading Using Python.ipynb",
      "provenance": [],
      "collapsed_sections": [],
      "authorship_tag": "ABX9TyPX3bl9P1MlGnROm3VkfFtD",
      "include_colab_link": true
    },
    "kernelspec": {
      "name": "python3",
      "display_name": "Python 3"
    },
    "language_info": {
      "name": "python"
    }
  },
  "cells": [
    {
      "cell_type": "markdown",
      "metadata": {
        "id": "view-in-github",
        "colab_type": "text"
      },
      "source": [
        "<a href=\"https://colab.research.google.com/github/psrana/Multi-Threading-Using-Python/blob/main/Multi_Threading_Using_Python.ipynb\" target=\"_parent\"><img src=\"https://colab.research.google.com/assets/colab-badge.svg\" alt=\"Open In Colab\"/></a>"
      ]
    },
    {
      "cell_type": "markdown",
      "metadata": {
        "id": "NgayMd7cK3U6"
      },
      "source": [
        "---\n",
        "# **Multi-Threading Using Python**\n",
        "---\n",
        "\n",
        "### You will learn:\n",
        "\n",
        "- Basics of Multi-Threading\n",
        "- Mini-Project-1: Create multiple files using threading\n",
        "- Mini-Project-2: Convert multiple files to upper case\n",
        "- Mini-Project-3: Convert multiple images to grey scale\n",
        "- Mini-Project-4: Convert multiple video to to grey scale\n",
        "\n",
        "---\n",
        "### **Self learning resource**\n",
        "- Tutorial-1 **<a href=\"https://www.geeksforgeeks.org/multithreading-python-set-1/\"> Click Here</a>** \n",
        "- Tutorial-2 **<a href=\"https://www.tutorialspoint.com/python/python_multithreading.htm\"> Click Here</a>** \n",
        "- Tutorial-3 **<a href=\"https://analyticsindiamag.com/how-to-run-python-code-concurrently-using-multithreading/\"> Click Here</a>** \n",
        "- Tutorial-4 **<a href=\"https://towardsdatascience.com/multithreading-multiprocessing-python-180d0975ab29\"> Click Here</a>** \n",
        "- Tutorial-5 **<a href=\"https://realpython.com/intro-to-python-threading/\"> Click Here</a>**"
      ]
    },
    {
      "cell_type": "markdown",
      "metadata": {
        "id": "DOZfIRp04ZvM"
      },
      "source": [
        "---\n",
        "# **1. Getting started**\n",
        "---\n",
        "### **1.1 Get OS type**\n",
        "---"
      ]
    },
    {
      "cell_type": "code",
      "metadata": {
        "id": "BuJp15Fd4ZvS",
        "colab": {
          "base_uri": "https://localhost:8080/"
        },
        "outputId": "74471851-627b-40f9-b240-71a22ab17d43"
      },
      "source": [
        "import os\n",
        "\n",
        "print (\"OS Type: \", os.name)"
      ],
      "execution_count": 1,
      "outputs": [
        {
          "output_type": "stream",
          "name": "stdout",
          "text": [
            "OS Type:  posix\n"
          ]
        }
      ]
    },
    {
      "cell_type": "markdown",
      "metadata": {
        "id": "jyNJI7SqH18r"
      },
      "source": [
        "---\n",
        "### **1.2 Get OS name**\n",
        "---"
      ]
    },
    {
      "cell_type": "code",
      "metadata": {
        "id": "3MRFet4XH18s",
        "colab": {
          "base_uri": "https://localhost:8080/"
        },
        "outputId": "482bbf0f-e50f-4d81-fe91-d303d14747f0"
      },
      "source": [
        "import sys\n",
        "\n",
        "print (\"OS Name: \", sys.platform)"
      ],
      "execution_count": 2,
      "outputs": [
        {
          "output_type": "stream",
          "name": "stdout",
          "text": [
            "OS Name:  linux\n"
          ]
        }
      ]
    },
    {
      "cell_type": "markdown",
      "metadata": {
        "id": "kXfYPao6H2UB"
      },
      "source": [
        "---\n",
        "### **1.3 Get OS Platform**\n",
        "---"
      ]
    },
    {
      "cell_type": "code",
      "metadata": {
        "id": "_2m_K_RRH2UC",
        "colab": {
          "base_uri": "https://localhost:8080/"
        },
        "outputId": "a3eb760f-00fb-441a-cc90-5df1cefe9fe2"
      },
      "source": [
        "import platform\n",
        "\n",
        "print (\"OS Platform: \", platform.platform())"
      ],
      "execution_count": 3,
      "outputs": [
        {
          "output_type": "stream",
          "name": "stdout",
          "text": [
            "OS Platform:  Linux-5.4.188+-x86_64-with-Ubuntu-18.04-bionic\n"
          ]
        }
      ]
    },
    {
      "cell_type": "markdown",
      "source": [
        "---\n",
        "### **1.4 Get the number of cores**\n",
        "---"
      ],
      "metadata": {
        "id": "NtxDJ1XyKF-m"
      }
    },
    {
      "cell_type": "code",
      "metadata": {
        "id": "e4JFo1WM8ZON",
        "colab": {
          "base_uri": "https://localhost:8080/"
        },
        "outputId": "02c436dd-b8b7-4b61-fdcd-a8072b2afa90"
      },
      "source": [
        "import multiprocessing\n",
        "\n",
        "numberOfCores = multiprocessing.cpu_count()\n",
        "print (\"Num of cores are: \", numberOfCores)\n"
      ],
      "execution_count": 4,
      "outputs": [
        {
          "output_type": "stream",
          "name": "stdout",
          "text": [
            "Num of cores are:  2\n"
          ]
        }
      ]
    },
    {
      "cell_type": "markdown",
      "metadata": {
        "id": "EOp1wf9hlyC2"
      },
      "source": [
        "---\n",
        "### **1.5 Get the active number of threads**\n",
        "---\n"
      ]
    },
    {
      "cell_type": "code",
      "metadata": {
        "id": "sk_6l4N6l-vH",
        "colab": {
          "base_uri": "https://localhost:8080/"
        },
        "outputId": "38fa3467-24bd-4a1e-8a58-0842cec40e2a"
      },
      "source": [
        "import threading\n",
        "\n",
        "activeThread = threading.activeCount()\n",
        "print (\"Num of threads: \",activeThread)"
      ],
      "execution_count": 5,
      "outputs": [
        {
          "output_type": "stream",
          "name": "stdout",
          "text": [
            "Num of threads:  10\n"
          ]
        }
      ]
    },
    {
      "cell_type": "markdown",
      "metadata": {
        "id": "dwVsvANtISny"
      },
      "source": [
        "---\n",
        "### **1.6 Get the execution time of a program**\n",
        "---"
      ]
    },
    {
      "cell_type": "code",
      "metadata": {
        "id": "qF66hn_JISn2",
        "colab": {
          "base_uri": "https://localhost:8080/"
        },
        "outputId": "41d42b75-830f-49ba-d076-4df8833932d6"
      },
      "source": [
        "import time\n",
        "\n",
        "startTime = time.time()\n",
        "\n",
        "n = 5\n",
        "\n",
        "print(\"Program Started\")\n",
        "print(\"\\nWaiting for %d sec....\" % (n))\n",
        "time.sleep(n)\n",
        "\n",
        "print(\"\\nTotal Time %f sec\" % (round( time.time() - startTime,4)))"
      ],
      "execution_count": 6,
      "outputs": [
        {
          "output_type": "stream",
          "name": "stdout",
          "text": [
            "Program Started\n",
            "\n",
            "Waiting for 5 sec....\n",
            "\n",
            "Total Time 5.006300 sec\n"
          ]
        }
      ]
    },
    {
      "cell_type": "markdown",
      "metadata": {
        "id": "xV9jP2eAzpxA"
      },
      "source": [
        "---\n",
        "### **1.7 Get the present working directory**\n",
        "---"
      ]
    },
    {
      "cell_type": "code",
      "source": [
        "import os\n",
        "os.getcwd()"
      ],
      "metadata": {
        "colab": {
          "base_uri": "https://localhost:8080/",
          "height": 35
        },
        "outputId": "8032511e-fe59-486d-be46-c46ef2cfb5b9",
        "id": "EUtzJK36zpxB"
      },
      "execution_count": 7,
      "outputs": [
        {
          "output_type": "execute_result",
          "data": {
            "text/plain": [
              "'/content'"
            ],
            "application/vnd.google.colaboratory.intrinsic+json": {
              "type": "string"
            }
          },
          "metadata": {},
          "execution_count": 7
        }
      ]
    },
    {
      "cell_type": "markdown",
      "metadata": {
        "id": "KVB94VAvKh3h"
      },
      "source": [
        "---\n",
        "# **2. Basics of Multi-threading**\n",
        "---\n",
        "### **2.1 Create a task: Function run for random seconds**\n",
        "---"
      ]
    },
    {
      "cell_type": "code",
      "metadata": {
        "id": "QaiYUbqpKh3j",
        "colab": {
          "base_uri": "https://localhost:8080/"
        },
        "outputId": "e7cc2ff4-997c-471d-b19f-337173108ec4"
      },
      "source": [
        "import os, sys, time, threading, multiprocessing, random as r\n",
        "\n",
        "# Function runs for random seconds\n",
        "def task(cmd):\n",
        "\n",
        "    waitingTime = r.randint(5,15)\n",
        "\n",
        "    print(\"Task started\")\n",
        "    print(\"Task running for %d sec....\" % (waitingTime))\n",
        "    time.sleep(waitingTime)\n",
        "\n",
        "    print(\"Task ends\")\n",
        "    return\n",
        "\n",
        "cmd = 'Sample task'\n",
        "task(cmd)"
      ],
      "execution_count": 8,
      "outputs": [
        {
          "output_type": "stream",
          "name": "stdout",
          "text": [
            "Task started\n",
            "Task running for 8 sec....\n",
            "Task ends\n"
          ]
        }
      ]
    },
    {
      "cell_type": "markdown",
      "metadata": {
        "id": "-y5rA12PM97O"
      },
      "source": [
        "---\n",
        "### **2.2 Create first thread**\n",
        "---"
      ]
    },
    {
      "cell_type": "code",
      "metadata": {
        "id": "Zmng6jMrM97P"
      },
      "source": [
        "import os, sys, time, threading, multiprocessing, random as r\n",
        "\n",
        "# Function runs for random seconds\n",
        "def task(cmd):\n",
        "\n",
        "    waitingTime = r.randint(5,10)\n",
        "\n",
        "    print(\"  Task started\")\n",
        "    print(\"   Task running for %d sec....\" % (waitingTime))\n",
        "    time.sleep(waitingTime)\n",
        "\n",
        "    print(\"  Task ends\")\n",
        "    return"
      ],
      "execution_count": 9,
      "outputs": []
    },
    {
      "cell_type": "code",
      "source": [
        "# Main Program\n",
        "startTime = time.time()\n",
        "\n",
        "cmd = 'Sample task'\n",
        "\n",
        "print(\"Program Started\")\n",
        "print(\" Thread starts\")\n",
        "\n",
        "t = threading.Thread(target=task , args=(cmd,))\n",
        "t.start()\n",
        "\n",
        "print(\" Thread ends\")\n",
        "\n",
        "print(\"Program Finished\")\n",
        "print(\"Total Time %f sec\" % (round( time.time() - startTime,4)))\n"
      ],
      "metadata": {
        "id": "jItYBWgYNFuO",
        "colab": {
          "base_uri": "https://localhost:8080/"
        },
        "outputId": "489dcb30-b790-429d-8dd9-204b3a23da83"
      },
      "execution_count": 10,
      "outputs": [
        {
          "output_type": "stream",
          "name": "stdout",
          "text": [
            "Program Started\n",
            " Thread starts\n",
            "  Task started Thread ends\n",
            "Program Finished\n",
            "Total Time 0.006200 sec\n",
            "\n",
            "   Task running for 5 sec....\n"
          ]
        }
      ]
    },
    {
      "cell_type": "markdown",
      "metadata": {
        "id": "AS-_o9_9P7U6"
      },
      "source": [
        "---\n",
        "### **2.3 Waits for thread to compelete**\n",
        "---"
      ]
    },
    {
      "cell_type": "code",
      "metadata": {
        "id": "jTeKX4VsP7U6"
      },
      "source": [
        "import os, sys, time, threading, multiprocessing, random as r\n",
        "\n",
        "# Function runs for random seconds\n",
        "def task(cmd):\n",
        "\n",
        "    waitingTime = r.randint(5,10)\n",
        "\n",
        "    print(\"  Task started\")\n",
        "    print(\"   Task running for %d sec....\" % (waitingTime))\n",
        "    time.sleep(waitingTime)\n",
        "\n",
        "    print(\"  Task ends\")\n",
        "    return"
      ],
      "execution_count": 11,
      "outputs": []
    },
    {
      "cell_type": "code",
      "source": [
        "# Main Program\n",
        "startTime = time.time()\n",
        "\n",
        "activeThreads = threading.activeCount()\n",
        "print(\"Active Threads = \", activeThreads)\n",
        "\n",
        "cmd = 'Sample task'\n",
        "\n",
        "\n",
        "print(\"Program Started\")\n",
        "print(\" Thread starts\")\n",
        "\n",
        "t = threading.Thread(target=task , args=(cmd,))\n",
        "t.start()\n",
        "time.sleep(1)\n",
        "\n",
        "# Waiting to finish the Threads\n",
        "while True:\n",
        "    if threading.activeCount() == activeThreads:\n",
        "        break\n",
        "    else:\n",
        "        print (\"    Thread still running (left %d)...\"%(threading.activeCount() - activeThreads))\n",
        "        time.sleep(1)\n",
        "  \n",
        "print(\" Thread ends\")\n",
        "\n",
        "print(\"Program Finished\")\n",
        "print(\"Total Time %f sec\" % (round( time.time() - startTime,4)))"
      ],
      "metadata": {
        "id": "AmxPGlzXP7U7",
        "colab": {
          "base_uri": "https://localhost:8080/"
        },
        "outputId": "1bec00a4-3c11-42eb-a2b9-a64152915766"
      },
      "execution_count": 12,
      "outputs": [
        {
          "output_type": "stream",
          "name": "stdout",
          "text": [
            "Active Threads =  10\n",
            "Program Started\n",
            " Thread starts\n",
            "  Task started\n",
            "   Task running for 10 sec....\n",
            "    Thread still running (left 1)...\n",
            "    Thread still running (left 1)...\n",
            "    Thread still running (left 1)...\n",
            "    Thread still running (left 1)...\n",
            "    Thread still running (left 1)...\n",
            "    Thread still running (left 1)...\n",
            "    Thread still running (left 1)...\n",
            "    Thread still running (left 1)...\n",
            "    Thread still running (left 1)...\n",
            "  Task ends\n",
            " Thread ends\n",
            "Program Finished\n",
            "Total Time 10.015600 sec\n"
          ]
        }
      ]
    },
    {
      "cell_type": "markdown",
      "metadata": {
        "id": "DyBrw38uZ2Jc"
      },
      "source": [
        "---\n",
        "### **2.4 Run Multiple Thread and waits to compelete all**\n",
        "---"
      ]
    },
    {
      "cell_type": "code",
      "metadata": {
        "id": "jRy-LRtcZ2Jd"
      },
      "source": [
        "import os, sys, time, threading, multiprocessing, random as r\n",
        "\n",
        "# Function runs for random seconds\n",
        "def task(cmd):\n",
        "\n",
        "    waitingTime = r.randint(5,10)\n",
        "\n",
        "    print(\"  Task %s started\" % (cmd))\n",
        "    print(\"   Task %s running for %d sec....\" % (cmd, waitingTime))\n",
        "    time.sleep(waitingTime)\n",
        "\n",
        "    print(\"  Task %s ends\" % (cmd))\n",
        "    return"
      ],
      "execution_count": 13,
      "outputs": []
    },
    {
      "cell_type": "code",
      "source": [
        "# Main Program - Run 16 threads in one go\n",
        "\n",
        "startTime = time.time()\n",
        "\n",
        "numberOfThreads = 16\n",
        "\n",
        "# Main Program - Run Multiple Threads\n",
        "print(\"Program Started....\")\n",
        "\n",
        "for i in range(numberOfThreads):\n",
        "    cmd = str(i+1)\n",
        "    print(\" Thread %s starts\"%(cmd))\n",
        "    t = threading.Thread(target=task , args=(cmd,))\n",
        "    t.start()\n",
        "\n",
        "time.sleep(1)\n",
        "\n",
        "# Waiting to finish all Threads\n",
        "while True:\n",
        "    if threading.activeCount() == activeThreads:\n",
        "        break\n",
        "    else:\n",
        "        print (\"    Thread still running (left %d)...\"%(threading.activeCount() - activeThreads))\n",
        "        time.sleep(1)\n",
        "  \n",
        "print(\" All Thread ends\")\n",
        "\n",
        "print(\"Program Finished\")\n",
        "print(\"Total Time %f sec\" % (round( time.time() - startTime,4)))"
      ],
      "metadata": {
        "id": "5UWNuJCJZ2Jf",
        "colab": {
          "base_uri": "https://localhost:8080/"
        },
        "outputId": "385f7e21-8c64-43be-81f7-86fde142fb1b"
      },
      "execution_count": 14,
      "outputs": [
        {
          "output_type": "stream",
          "name": "stdout",
          "text": [
            "Program Started....\n",
            " Thread 1 starts\n",
            "  Task 1 started\n",
            "   Task 1 running for 8 sec....\n",
            " Thread 2 starts\n",
            "  Task 2 started Thread 3 starts\n",
            "  Task 3 started\n",
            "\n",
            "   Task 2 running for 8 sec....\n",
            " Thread 4 starts   Task 3 running for 5 sec....\n",
            "\n",
            "  Task 4 started Thread 5 starts\n",
            "   Task 4 running for 6 sec....\n",
            "\n",
            "  Task 5 started\n",
            "   Task 5 running for 8 sec....\n",
            " Thread 6 starts\n",
            "  Task 6 started\n",
            " Thread 7 starts\n",
            "   Task 6 running for 7 sec....  Task 7 started\n",
            "   Task 7 running for 7 sec....\n",
            "\n",
            " Thread 8 starts\n",
            "  Task 8 started\n",
            " Thread 9 starts\n",
            "   Task 8 running for 7 sec....\n",
            "  Task 9 started Thread 10 starts\n",
            "\n",
            "  Task 10 started\n",
            "   Task 10 running for 8 sec....\n",
            "   Task 9 running for 5 sec.... Thread 11 starts\n",
            "\n",
            "  Task 11 started Thread 12 starts\n",
            "  Task 12 started\n",
            " Thread 13 starts\n",
            "   Task 12 running for 7 sec....\n",
            "  Task 13 started\n",
            "   Task 13 running for 9 sec....\n",
            "\n",
            "   Task 11 running for 9 sec....\n",
            " Thread 14 starts\n",
            "  Task 14 started Thread 15 starts\n",
            "  Task 15 started\n",
            "   Task 15 running for 8 sec.... Thread 16 starts\n",
            "\n",
            "\n",
            "   Task 14 running for 7 sec....\n",
            "  Task 16 started\n",
            "   Task 16 running for 7 sec....\n",
            "    Thread still running (left 16)...\n",
            "    Thread still running (left 16)...\n",
            "    Thread still running (left 16)...\n",
            "    Thread still running (left 16)...\n",
            "  Task 3 ends\n",
            "  Task 9 ends\n",
            "    Thread still running (left 14)...\n",
            "  Task 4 ends\n",
            "    Thread still running (left 13)...\n",
            "  Task 7 ends  Task 6 ends\n",
            "\n",
            "  Task 8 ends\n",
            "  Task 12 ends\n",
            "  Task 14 ends\n",
            "  Task 16 ends\n",
            "    Thread still running (left 7)...\n",
            "  Task 1 ends\n",
            "  Task 2 ends\n",
            "  Task 5 ends\n",
            "  Task 10 ends\n",
            "  Task 15 ends\n",
            "    Thread still running (left 2)...\n",
            "  Task 13 ends\n",
            "  Task 11 ends\n",
            " All Thread ends\n",
            "Program Finished\n",
            "Total Time 9.064200 sec\n"
          ]
        }
      ]
    },
    {
      "cell_type": "markdown",
      "metadata": {
        "id": "yEl3i3nEmUYE"
      },
      "source": [
        "---\n",
        "### **2.5 Run Multiple Threads = numberOfCores**\n",
        "---"
      ]
    },
    {
      "cell_type": "code",
      "metadata": {
        "id": "7kMktlTXmUYH"
      },
      "source": [
        "import os, sys, time, threading, multiprocessing, random as r\n",
        "\n",
        "# Function runs for random seconds\n",
        "def task(cmd):\n",
        "\n",
        "    waitingTime = r.randint(5,10)\n",
        "\n",
        "    print(\"  Task %s started\" % (cmd))\n",
        "    print(\"   Task %s running for %d sec....\" % (cmd, waitingTime))\n",
        "    time.sleep(waitingTime)\n",
        "\n",
        "    print(\"  Task %s ends\" % (cmd))\n",
        "    return"
      ],
      "execution_count": 15,
      "outputs": []
    },
    {
      "cell_type": "code",
      "source": [
        "# Main Program\n",
        "\n",
        "startTime = time.time()\n",
        "\n",
        "numberOfThreads = 16\n",
        "\n",
        "activeThreads = threading.activeCount()\n",
        "print(\"Active Threads = \", activeThreads)\n",
        "\n",
        "numberOfCores=multiprocessing.cpu_count()\n",
        "print(\"Number Of Cores = \", numberOfCores)\n",
        "\n",
        "# Main Program - Run Multiple Threads\n",
        "print(\"Program Started....\")\n",
        "\n",
        "for i in range(numberOfThreads):\n",
        "    cmd = str(i+1)\n",
        "    print(\" Thread %s starts\"%(cmd))\n",
        "    t = threading.Thread(target=task , args=(cmd,))\n",
        "    t.start()\n",
        "    while True:\n",
        "      if threading.activeCount() - activeThreads + 1 <= numberOfCores:\n",
        "        break\n",
        "      time.sleep(1)\n",
        "\n",
        "time.sleep(1)\n",
        "\n",
        "# Waiting to finish all Threads\n",
        "while True:\n",
        "    if threading.activeCount() == activeThreads:\n",
        "        break\n",
        "    else:\n",
        "        print (\"    Thread still running (left %d)...\"%(threading.activeCount() - activeThreads))\n",
        "        time.sleep(1)\n",
        "  \n",
        "print(\" All Thread ends\")\n",
        "\n",
        "print(\"Program Finished\")\n",
        "print(\"Total Time %f sec\" % (round( time.time() - startTime,4)))"
      ],
      "metadata": {
        "id": "e-HTccOtmUYI",
        "colab": {
          "base_uri": "https://localhost:8080/"
        },
        "outputId": "d7de0fe6-6348-46f0-ebec-31bd55e0679e"
      },
      "execution_count": 16,
      "outputs": [
        {
          "output_type": "stream",
          "name": "stdout",
          "text": [
            "Active Threads =  10\n",
            "Number Of Cores =  2\n",
            "Program Started....\n",
            " Thread 1 starts\n",
            "  Task 1 started\n",
            "   Task 1 running for 10 sec....\n",
            " Thread 2 starts\n",
            "  Task 2 started\n",
            "   Task 2 running for 8 sec....\n",
            "  Task 2 ends\n",
            " Thread 3 starts\n",
            "  Task 3 started\n",
            "   Task 3 running for 9 sec....\n",
            "  Task 1 ends\n",
            " Thread 4 starts\n",
            "  Task 4 started\n",
            "   Task 4 running for 6 sec....\n",
            "  Task 4 ends\n",
            " Thread 5 starts\n",
            "  Task 5 started\n",
            "   Task 5 running for 6 sec....\n",
            "  Task 3 ends\n",
            " Thread 6 starts\n",
            "  Task 6 started\n",
            "   Task 6 running for 5 sec....\n",
            "  Task 5 ends\n",
            " Thread 7 starts\n",
            "  Task 6 ends\n",
            "  Task 7 started\n",
            "   Task 7 running for 7 sec....\n",
            " Thread 8 starts\n",
            "  Task 8 started\n",
            "   Task 8 running for 7 sec....\n",
            "  Task 8 ends\n",
            "  Task 7 ends\n",
            " Thread 9 starts\n",
            "  Task 9 started Thread 10 starts\n",
            "  Task 10 started\n",
            "   Task 10 running for 9 sec....\n",
            "\n",
            "   Task 9 running for 6 sec....\n",
            "  Task 9 ends\n",
            " Thread 11 starts\n",
            "  Task 11 started\n",
            "   Task 11 running for 6 sec....\n",
            "  Task 10 ends\n",
            " Thread 12 starts\n",
            "  Task 12 started\n",
            "   Task 12 running for 5 sec....\n",
            "  Task 11 ends\n",
            " Thread 13 starts\n",
            "  Task 13 started\n",
            "   Task 13 running for 10 sec....\n",
            "  Task 12 ends\n",
            " Thread 14 starts\n",
            "  Task 14 started\n",
            "   Task 14 running for 10 sec....\n",
            "  Task 13 ends\n",
            " Thread 15 starts\n",
            "  Task 15 started\n",
            "   Task 15 running for 8 sec....\n",
            "  Task 14 ends\n",
            " Thread 16 starts\n",
            "  Task 16 started\n",
            "   Task 16 running for 7 sec....\n",
            "  Task 15 ends\n",
            "  Task 16 ends\n",
            " All Thread ends\n",
            "Program Finished\n",
            "Total Time 61.092100 sec\n"
          ]
        }
      ]
    },
    {
      "cell_type": "markdown",
      "metadata": {
        "id": "Vq_eyktXo_mc"
      },
      "source": [
        "---\n",
        "# **3. Mini-Project-1: Create multiple files using threading**\n",
        "---\n",
        "### **3.1 Create multiple files ONE BY ONE (20 files of ~20 MB)**\n",
        "---"
      ]
    },
    {
      "cell_type": "code",
      "source": [
        "# Get the present working directory\n",
        "import os\n",
        "os.getcwd()"
      ],
      "metadata": {
        "colab": {
          "base_uri": "https://localhost:8080/",
          "height": 35
        },
        "id": "CbuM19_6zXN3",
        "outputId": "7e9f7722-d4b6-4376-da14-ee18e092da0b"
      },
      "execution_count": 36,
      "outputs": [
        {
          "output_type": "execute_result",
          "data": {
            "text/plain": [
              "'/content'"
            ],
            "application/vnd.google.colaboratory.intrinsic+json": {
              "type": "string"
            }
          },
          "metadata": {},
          "execution_count": 36
        }
      ]
    },
    {
      "cell_type": "code",
      "metadata": {
        "id": "WCWLadeOo_mf"
      },
      "source": [
        "# Paramaneter Setting\n",
        "\n",
        "import random as r, string as s, shutil, os, time\n",
        "\n",
        "inputDirName = 'inputDirectory'\n",
        "totalFiles = 20\n",
        "fileSize = 20  # (= ~ 125 MB )\n",
        "\n",
        "\n",
        "try:\n",
        "    # Delete input directory and then create it\n",
        "    shutil.rmtree(\"./%s/\"%(inputDirName))\n",
        "    os.mkdir(inputDirName)\n",
        "except:\n",
        "    # Create the input directory\n",
        "    os.mkdir(inputDirName)\n"
      ],
      "execution_count": 37,
      "outputs": []
    },
    {
      "cell_type": "code",
      "source": [
        "# Function to create file\n",
        "\n",
        "def task(fileName):\n",
        "    iteration=512\n",
        "    fileName=\"./%s/%s\"%(inputDirName,fileName)\n",
        "    while True:\n",
        "        fp = open(fileName,\"a\")\n",
        "        for j in range(iteration):\n",
        "          for k in range(iteration):\n",
        "            string=\" \".join(r.sample(s.ascii_letters,50))\n",
        "            fp.write(string + \"\\n\" + string + \"\\n\" + string + \"\\n\" + string + \"\\n\" + string + \"\\n\")\n",
        "        fp.close()\n",
        "        if  os.path.getsize(fileName) >= fileSize:\n",
        "            break\n",
        "    return None\n"
      ],
      "metadata": {
        "id": "iQ-Ug6H1Ccxo"
      },
      "execution_count": 38,
      "outputs": []
    },
    {
      "cell_type": "code",
      "source": [
        "# Main Program\n",
        "\n",
        "startTime = time.time()\n",
        "print(\"Program Started....\")\n",
        "\n",
        "for i in range(totalFiles):\n",
        "    fileName = \"test%d.txt\"%(i+1)\n",
        "    task(fileName)\n",
        "    if i%5 == 0:\n",
        "      print (\"Creating file %s\"%(fileName))\n",
        "\t\n",
        "print(\"\\nTotal Time %f sec\"%(round(time.time() - startTime,4)))\n",
        "print(\"Program Finished\")"
      ],
      "metadata": {
        "colab": {
          "base_uri": "https://localhost:8080/"
        },
        "id": "HmK5sK4lC8Ot",
        "outputId": "8a3acc49-43ba-45f2-ae78-c5f03cff7d81"
      },
      "execution_count": 39,
      "outputs": [
        {
          "output_type": "stream",
          "name": "stdout",
          "text": [
            "Program Started....\n",
            "Creating file test1.txt\n",
            "Creating file test6.txt\n",
            "Creating file test11.txt\n",
            "Creating file test16.txt\n",
            "\n",
            "Total Time 234.974800 sec\n",
            "Program Finished\n"
          ]
        }
      ]
    },
    {
      "cell_type": "markdown",
      "metadata": {
        "id": "q0O0vwr5IiFL"
      },
      "source": [
        "---\n",
        "### **3.2 Create multiple files using multi-threading**\n",
        "---"
      ]
    },
    {
      "cell_type": "code",
      "source": [
        "# Get the present working directory\n",
        "import os\n",
        "os.getcwd()"
      ],
      "metadata": {
        "colab": {
          "base_uri": "https://localhost:8080/",
          "height": 35
        },
        "outputId": "651694e0-fee1-4e76-a273-0d91a8b03b0c",
        "id": "WSPX3HM9IiFN"
      },
      "execution_count": 44,
      "outputs": [
        {
          "output_type": "execute_result",
          "data": {
            "text/plain": [
              "'/content'"
            ],
            "application/vnd.google.colaboratory.intrinsic+json": {
              "type": "string"
            }
          },
          "metadata": {},
          "execution_count": 44
        }
      ]
    },
    {
      "cell_type": "code",
      "metadata": {
        "id": "ELkfZld1IiFO"
      },
      "source": [
        "# Paramaneter Setting\n",
        "\n",
        "import random as r, string as s, shutil, os, time\n",
        "\n",
        "inputDirName = 'inputDirectory'\n",
        "totalFiles = 20\n",
        "fileSize = 20  # (= ~ 125 MB )\n",
        "\n",
        "\n",
        "try:\n",
        "    # Delete input directory and then create it\n",
        "    shutil.rmtree(\"./%s/\"%(inputDirName))\n",
        "    os.mkdir(inputDirName)\n",
        "except:\n",
        "    # Create the input directory\n",
        "    os.mkdir(inputDirName)\n"
      ],
      "execution_count": 41,
      "outputs": []
    },
    {
      "cell_type": "code",
      "source": [
        "# Function to create file\n",
        "\n",
        "def task(fileName):\n",
        "    iteration=512\n",
        "    fileName=\"./%s/%s\"%(inputDirName,fileName)\n",
        "    while True:\n",
        "        fp = open(fileName,\"a\")\n",
        "        for j in range(iteration):\n",
        "          for k in range(iteration):\n",
        "            string=\" \".join(r.sample(s.ascii_letters,50))\n",
        "            fp.write(string + \"\\n\" + string + \"\\n\" + string + \"\\n\" + string + \"\\n\" + string + \"\\n\")\n",
        "        fp.close()\n",
        "        if  os.path.getsize(fileName) >= fileSize:\n",
        "            break\n",
        "    return None\n"
      ],
      "metadata": {
        "id": "eLmeyPbtIiFP"
      },
      "execution_count": 42,
      "outputs": []
    },
    {
      "cell_type": "code",
      "source": [
        "# Main Program\n",
        "\n",
        "startTime = time.time()\n",
        "\n",
        "numberOfThreads = 5\n",
        "\n",
        "activeThreads = threading.activeCount()\n",
        "\n",
        "# Main Program - Run Multiple Threads\n",
        "print(\"Program Started....\")\n",
        "\n",
        "for i in range(totalFiles):\n",
        "    fileName = \"test%d.txt\"%(i+1)\n",
        "    cmd = fileName\n",
        "    t = threading.Thread(target=task , args=(cmd,))\n",
        "    t.start()\n",
        "\n",
        "    print (\"Creating file %s\"%(fileName))\n",
        "    \n",
        "    while True:\n",
        "      if threading.activeCount() - activeThreads + 1 <= numberOfThreads:\n",
        "        break\n",
        "      time.sleep(1)\n",
        "\n",
        "\n",
        "\n",
        "# Waiting to finish all Threads\n",
        "while True:\n",
        "    if threading.activeCount() == activeThreads:\n",
        "        break\n",
        "    else:\n",
        "        print (\"    Thread still running (left %d)...\"%(threading.activeCount() - activeThreads))\n",
        "        time.sleep(1)\n",
        "  \n",
        "print(\" All Thread ends\")\n",
        "\n",
        "print(\"Program Finished\")\n",
        "print(\"Total Time %f sec\" % (round( time.time() - startTime,4)))"
      ],
      "metadata": {
        "colab": {
          "base_uri": "https://localhost:8080/"
        },
        "outputId": "60a5cfe1-800e-473f-caa2-75ffdf9d7837",
        "id": "3pZi4nOko_mg"
      },
      "execution_count": 43,
      "outputs": [
        {
          "output_type": "stream",
          "name": "stdout",
          "text": [
            "Program Started....\n",
            "Creating file test1.txt\n",
            "Creating file test2.txt\n",
            "Creating file test3.txt\n",
            "Creating file test4.txt\n",
            "Creating file test5.txt\n",
            "Creating file test6.txt\n",
            "Creating file test7.txt\n",
            "Creating file test8.txt\n",
            "Creating file test9.txt\n",
            "Creating file test10.txt\n",
            "Creating file test11.txt\n",
            "Creating file test12.txt\n",
            "Creating file test13.txt\n",
            "Creating file test14.txt\n",
            "Creating file test15.txt\n",
            "Creating file test16.txt\n",
            "Creating file test17.txt\n",
            "Creating file test18.txt\n",
            "Creating file test19.txt\n",
            "Creating file test20.txt\n",
            "    Thread still running (left 4)...\n",
            "    Thread still running (left 4)...\n",
            "    Thread still running (left 3)...\n",
            " All Thread ends\n",
            "Program Finished\n",
            "Total Time 241.213200 sec\n"
          ]
        }
      ]
    },
    {
      "cell_type": "markdown",
      "source": [
        "---\n",
        "# **4. Mini-Project-2: Convert multiple files to upper case**\n",
        "---\n",
        "### **4.1 Convert multiple files ONE BY ONE (20 files of ~20 MB)**\n",
        "---"
      ],
      "metadata": {
        "id": "SnKUqQQzVnQq"
      }
    },
    {
      "cell_type": "code",
      "source": [
        "# Get the present working directory\n",
        "import os\n",
        "os.getcwd()"
      ],
      "metadata": {
        "colab": {
          "base_uri": "https://localhost:8080/",
          "height": 35
        },
        "outputId": "7cd11b3c-f1e3-4822-a640-e9520090d813",
        "id": "yOY-2X-XY3nx"
      },
      "execution_count": 48,
      "outputs": [
        {
          "output_type": "execute_result",
          "data": {
            "text/plain": [
              "'/content'"
            ],
            "application/vnd.google.colaboratory.intrinsic+json": {
              "type": "string"
            }
          },
          "metadata": {},
          "execution_count": 48
        }
      ]
    },
    {
      "cell_type": "code",
      "metadata": {
        "id": "6tnncSzqY3n0"
      },
      "source": [
        "# Paramaneter Setting\n",
        "\n",
        "import random as r, string as s, shutil, os, time\n",
        "\n",
        "inputDirName = 'inputDirectory'\n",
        "outputDirName = 'outputDirectory'\n",
        "\n",
        "\n",
        "try:\n",
        "    # Delete input directory and then create it\n",
        "    shutil.rmtree(\"./%s/\"%(outputDirName))\n",
        "    os.mkdir(outputDirName)\n",
        "except:\n",
        "    # Create the input directory\n",
        "    os.mkdir(outputDirName)\n"
      ],
      "execution_count": 50,
      "outputs": []
    },
    {
      "cell_type": "code",
      "source": [
        "# Function to convert the file to upper case\n",
        "\n",
        "def task(fileName):\n",
        "    inFileName =\"./%s/%s\"%(inputDirName,fileName)\n",
        "    outFileName =\"./%s/%s\"%(outputDirName,fileName)\n",
        "    \n",
        "    inFile = open(inFileName)\n",
        "    outFile = open(outFileName,\"w\")\n",
        "    \n",
        "    for line in inFile:\n",
        "      outFile.write(line.upper())\n",
        "    inFile.close()\n",
        "    outFile.close()\n",
        "    return None\n"
      ],
      "metadata": {
        "id": "uijmToxkY3n1"
      },
      "execution_count": 53,
      "outputs": []
    },
    {
      "cell_type": "code",
      "source": [
        "# Main Program\n",
        "\n",
        "startTime = time.time()\n",
        "print(\"Program Started....\")\n",
        "\n",
        "for i in range(totalFiles):\n",
        "    fileName = \"test%d.txt\"%(i+1)\n",
        "    task(fileName)\n",
        "    if i%5 == 0:\n",
        "      print (\"Creating file %s\"%(fileName))\n",
        "\t\n",
        "print(\"\\nTotal Time %f sec\"%(round(time.time() - startTime,4)))\n",
        "print(\"Program Finished\")"
      ],
      "metadata": {
        "colab": {
          "base_uri": "https://localhost:8080/"
        },
        "outputId": "fcb14069-710c-43f8-df32-0a554e8e912a",
        "id": "xuC36S0KY3n3"
      },
      "execution_count": 54,
      "outputs": [
        {
          "output_type": "stream",
          "name": "stdout",
          "text": [
            "Program Started....\n",
            "Creating file test1.txt\n",
            "Creating file test6.txt\n",
            "Creating file test11.txt\n",
            "Creating file test16.txt\n",
            "\n",
            "Total Time 25.249600 sec\n",
            "Program Finished\n"
          ]
        }
      ]
    },
    {
      "cell_type": "markdown",
      "metadata": {
        "id": "goAEfAq_Y3n4"
      },
      "source": [
        "---\n",
        "### **4.2 Convert multiple files using multi-threading**\n",
        "---"
      ]
    },
    {
      "cell_type": "code",
      "source": [
        "# Get the present working directory\n",
        "import os\n",
        "os.getcwd()"
      ],
      "metadata": {
        "colab": {
          "base_uri": "https://localhost:8080/",
          "height": 35
        },
        "outputId": "bbdbe132-dd3e-4255-af2f-e3486d95ee64",
        "id": "roH1-u9HY3n4"
      },
      "execution_count": 55,
      "outputs": [
        {
          "output_type": "execute_result",
          "data": {
            "text/plain": [
              "'/content'"
            ],
            "application/vnd.google.colaboratory.intrinsic+json": {
              "type": "string"
            }
          },
          "metadata": {},
          "execution_count": 55
        }
      ]
    },
    {
      "cell_type": "code",
      "metadata": {
        "id": "mVDlE1HfY3n5"
      },
      "source": [
        "# Paramaneter Setting\n",
        "\n",
        "import random as r, string as s, shutil, os, time\n",
        "\n",
        "inputDirName = 'inputDirectory'\n",
        "outputDirName = 'outputDirectory'\n",
        "\n",
        "\n",
        "try:\n",
        "    # Delete input directory and then create it\n",
        "    shutil.rmtree(\"./%s/\"%(outputDirName))\n",
        "    os.mkdir(outputDirName)\n",
        "except:\n",
        "    # Create the input directory\n",
        "    os.mkdir(outputDirName)\n"
      ],
      "execution_count": 56,
      "outputs": []
    },
    {
      "cell_type": "code",
      "source": [
        "# Function to convert the file to upper case\n",
        "\n",
        "def task(fileName):\n",
        "    inFileName =\"./%s/%s\"%(inputDirName,fileName)\n",
        "    outFileName =\"./%s/%s\"%(outputDirName,fileName)\n",
        "    \n",
        "    inFile = open(inFileName)\n",
        "    outFile = open(outFileName,\"w\")\n",
        "    \n",
        "    for line in inFile:\n",
        "      outFile.write(line.upper())\n",
        "    inFile.close()\n",
        "    outFile.close()\n",
        "    return None\n"
      ],
      "metadata": {
        "id": "hMxU1FlZY3n6"
      },
      "execution_count": 57,
      "outputs": []
    },
    {
      "cell_type": "code",
      "source": [
        "# Main Program\n",
        "\n",
        "startTime = time.time()\n",
        "\n",
        "numberOfThreads = 5\n",
        "\n",
        "activeThreads = threading.activeCount()\n",
        "\n",
        "# Main Program - Run Multiple Threads\n",
        "print(\"Program Started....\")\n",
        "\n",
        "for i in range(totalFiles):\n",
        "    fileName = \"test%d.txt\"%(i+1)\n",
        "    cmd = fileName\n",
        "    t = threading.Thread(target=task , args=(cmd,))\n",
        "    t.start()\n",
        "\n",
        "    print (\"Creating file %s\"%(fileName))\n",
        "    \n",
        "    while True:\n",
        "      if threading.activeCount() - activeThreads + 1 <= numberOfThreads:\n",
        "        break\n",
        "      time.sleep(1)\n",
        "\n",
        "\n",
        "\n",
        "# Waiting to finish all Threads\n",
        "while True:\n",
        "    if threading.activeCount() == activeThreads:\n",
        "        break\n",
        "    else:\n",
        "        print (\"    Thread still running (left %d)...\"%(threading.activeCount() - activeThreads))\n",
        "        time.sleep(1)\n",
        "  \n",
        "print(\" All Thread ends\")\n",
        "\n",
        "print(\"Program Finished\")\n",
        "print(\"Total Time %f sec\" % (round( time.time() - startTime,4)))"
      ],
      "metadata": {
        "colab": {
          "base_uri": "https://localhost:8080/"
        },
        "outputId": "ea050b90-0920-45b9-a64c-46ae830e7b6a",
        "id": "YmHJ_uzSY3n7"
      },
      "execution_count": 58,
      "outputs": [
        {
          "output_type": "stream",
          "name": "stdout",
          "text": [
            "Program Started....\n",
            "Creating file test1.txt\n",
            "Creating file test2.txt\n",
            "Creating file test3.txt\n",
            "Creating file test4.txt\n",
            "Creating file test5.txt\n",
            "Creating file test6.txt\n",
            "Creating file test7.txt\n",
            "Creating file test8.txt\n",
            "Creating file test9.txt\n",
            "Creating file test10.txt\n",
            "Creating file test11.txt\n",
            "Creating file test12.txt\n",
            "Creating file test13.txt\n",
            "Creating file test14.txt\n",
            "Creating file test15.txt\n",
            "Creating file test16.txt\n",
            "Creating file test17.txt\n",
            "Creating file test18.txt\n",
            "Creating file test19.txt\n",
            "Creating file test20.txt\n",
            "    Thread still running (left 4)...\n",
            "    Thread still running (left 4)...\n",
            "    Thread still running (left 4)...\n",
            "    Thread still running (left 4)...\n",
            "    Thread still running (left 4)...\n",
            "    Thread still running (left 4)...\n",
            " All Thread ends\n",
            "Program Finished\n",
            "Total Time 29.089500 sec\n"
          ]
        }
      ]
    },
    {
      "cell_type": "markdown",
      "source": [
        "![image.png](data:image/png;base64,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)"
      ],
      "metadata": {
        "id": "h-QbuMkDdBsP"
      }
    },
    {
      "cell_type": "markdown",
      "source": [
        "---\n",
        "# **5. Mini-Project-3: Convert multiple images to grey scale**\n",
        "---\n",
        "### **5.1 Try yourself**\n",
        "---"
      ],
      "metadata": {
        "id": "4m_mzw-erI-Y"
      }
    },
    {
      "cell_type": "markdown",
      "source": [
        "---\n",
        "# **6. Mini-Project-4: Convert multiple video to to grey scale**\n",
        "---\n",
        "### **6.1 Try yourself**\n",
        "---"
      ],
      "metadata": {
        "id": "jkT4xaaPcC0z"
      }
    }
  ]
}